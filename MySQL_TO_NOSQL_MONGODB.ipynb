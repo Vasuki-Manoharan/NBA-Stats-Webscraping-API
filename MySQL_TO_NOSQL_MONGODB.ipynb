{
 "cells": [
  {
   "cell_type": "markdown",
   "metadata": {},
   "source": [
    "# Converting MYSQL RDBMS DATA to NO-SQL DATA using MONGODB Collection and Documents\n"
   ]
  },
  {
   "cell_type": "code",
   "execution_count": 1,
   "metadata": {},
   "outputs": [
    {
     "name": "stdout",
     "output_type": "stream",
     "text": [
      "Collecting pymongo\n",
      "  Downloading https://files.pythonhosted.org/packages/5b/df/d0f82279467c72dd0c8cd1908e04a7fb56145a5d222704722e2593af79f1/pymongo-3.10.1-cp37-cp37m-win_amd64.whl (354kB)\n",
      "Installing collected packages: pymongo\n",
      "Successfully installed pymongo-3.10.1\n"
     ]
    }
   ],
   "source": [
    "!pip install pymongo"
   ]
  },
  {
   "cell_type": "code",
   "execution_count": 1,
   "metadata": {},
   "outputs": [],
   "source": [
    "import pymongo"
   ]
  },
  {
   "cell_type": "code",
   "execution_count": 2,
   "metadata": {},
   "outputs": [],
   "source": [
    "##Establish connection with mongodb:\n",
    "myclient = pymongo.MongoClient(\"mongodb://localhost:27017/\")\n",
    "\n",
    "mydb = myclient[\"mydatabase\"]"
   ]
  },
  {
   "cell_type": "code",
   "execution_count": 3,
   "metadata": {},
   "outputs": [
    {
     "name": "stdout",
     "output_type": "stream",
     "text": [
      "['admin', 'config', 'local', 'mydatabase']\n"
     ]
    }
   ],
   "source": [
    "# to check for the connection print the list of system databases present: \n",
    "print(myclient.list_database_names())"
   ]
  },
  {
   "cell_type": "code",
   "execution_count": 4,
   "metadata": {},
   "outputs": [
    {
     "name": "stdout",
     "output_type": "stream",
     "text": [
      "The database exists.\n"
     ]
    }
   ],
   "source": [
    "dblist = myclient.list_database_names()\n",
    "if \"mydatabase\" in dblist:\n",
    "    print(\"The database exists.\")"
   ]
  },
  {
   "cell_type": "code",
   "execution_count": 5,
   "metadata": {},
   "outputs": [],
   "source": [
    "# creating collections (tables):\n",
    "mycol1 = mydb[\"players\"]\n",
    "mycol2 = mydb[\"teams\"]\n",
    "mycol3 = mydb[\"game\"]\n",
    "mycol4 = mydb[\"stats\"]\n",
    "mycol5 = mydb[\"Division\"]\n",
    "mycol6 = mydb[\"Conference\"]"
   ]
  },
  {
   "cell_type": "code",
   "execution_count": 6,
   "metadata": {},
   "outputs": [
    {
     "name": "stdout",
     "output_type": "stream",
     "text": [
      "['players', 'Division', 'teams', 'game', 'stats', 'Conference']\n"
     ]
    }
   ],
   "source": [
    "#Check if collection exists :\n",
    "print(mydb.list_collection_names())"
   ]
  },
  {
   "cell_type": "markdown",
   "metadata": {},
   "source": [
    "Converting the CSV file data to JSON objects and writing to the Json files,this is done for every table we have created in MySql in Assignment 2."
   ]
  },
  {
   "cell_type": "code",
   "execution_count": 7,
   "metadata": {},
   "outputs": [],
   "source": [
    "import csv\n",
    "import json"
   ]
  },
  {
   "cell_type": "code",
   "execution_count": 8,
   "metadata": {},
   "outputs": [],
   "source": [
    "csvFilePath = 'PlayerData.csv'\n",
    "jsonFilePath = 'player.json'"
   ]
  },
  {
   "cell_type": "code",
   "execution_count": 9,
   "metadata": {},
   "outputs": [],
   "source": [
    "data = {}\n",
    "\n",
    "with open(csvFilePath) as csvFile:\n",
    "    csvReader = csv.DictReader(csvFile)\n",
    "    for rows in csvReader:\n",
    "        id = rows['playerId']\n",
    "        data[id] = rows"
   ]
  },
  {
   "cell_type": "code",
   "execution_count": 10,
   "metadata": {},
   "outputs": [],
   "source": [
    "with open(jsonFilePath, 'w') as jsonFile :\n",
    "    jsonFile.write(json.dumps(data,indent =4))"
   ]
  },
  {
   "cell_type": "code",
   "execution_count": 11,
   "metadata": {},
   "outputs": [],
   "source": [
    "with open('player.json') as f:\n",
    "    file_data = json.load(f)"
   ]
  },
  {
   "cell_type": "markdown",
   "metadata": {},
   "source": [
    "insert_one is used to insert the data into MongoDb,it will insert one document to the collection created."
   ]
  },
  {
   "cell_type": "code",
   "execution_count": 12,
   "metadata": {},
   "outputs": [
    {
     "data": {
      "text/plain": [
       "<pymongo.results.InsertOneResult at 0x1ff2da4da08>"
      ]
     },
     "execution_count": 12,
     "metadata": {},
     "output_type": "execute_result"
    }
   ],
   "source": [
    "mycol1.insert_one(file_data)"
   ]
  },
  {
   "cell_type": "code",
   "execution_count": 13,
   "metadata": {},
   "outputs": [
    {
     "name": "stdout",
     "output_type": "stream",
     "text": [
      "['players', 'Division', 'teams', 'game', 'stats', 'Conference']\n"
     ]
    }
   ],
   "source": [
    "#Check if collection exists :\n",
    "print(mydb.list_collection_names())"
   ]
  },
  {
   "cell_type": "code",
   "execution_count": 14,
   "metadata": {},
   "outputs": [],
   "source": [
    "csvFilePath = 'TeamData.csv'\n",
    "jsonFilePath = 'team.json'"
   ]
  },
  {
   "cell_type": "code",
   "execution_count": 15,
   "metadata": {},
   "outputs": [],
   "source": [
    "data = {}\n",
    "\n",
    "with open(csvFilePath) as csvFile:\n",
    "    csvReader = csv.DictReader(csvFile)\n",
    "    for rows in csvReader:\n",
    "        id = rows['teamId']\n",
    "        data[id] = rows"
   ]
  },
  {
   "cell_type": "code",
   "execution_count": 16,
   "metadata": {},
   "outputs": [],
   "source": [
    "with open(jsonFilePath, 'w') as jsonFile :\n",
    "    jsonFile.write(json.dumps(data,indent =4))"
   ]
  },
  {
   "cell_type": "code",
   "execution_count": 17,
   "metadata": {},
   "outputs": [],
   "source": [
    "with open('team.json') as f:\n",
    "    file_data = json.load(f)"
   ]
  },
  {
   "cell_type": "code",
   "execution_count": 18,
   "metadata": {},
   "outputs": [
    {
     "data": {
      "text/plain": [
       "<pymongo.results.InsertOneResult at 0x1ff2db13808>"
      ]
     },
     "execution_count": 18,
     "metadata": {},
     "output_type": "execute_result"
    }
   ],
   "source": [
    "mycol2.insert_one(file_data)"
   ]
  },
  {
   "cell_type": "code",
   "execution_count": 19,
   "metadata": {},
   "outputs": [
    {
     "name": "stdout",
     "output_type": "stream",
     "text": [
      "['players', 'Division', 'teams', 'game', 'stats', 'Conference']\n"
     ]
    }
   ],
   "source": [
    "#Check if collection exists :\n",
    "print(mydb.list_collection_names())"
   ]
  },
  {
   "cell_type": "code",
   "execution_count": 20,
   "metadata": {},
   "outputs": [],
   "source": [
    "csvFilePath = 'Game.csv'\n",
    "jsonFilePath = 'game.json'"
   ]
  },
  {
   "cell_type": "code",
   "execution_count": 21,
   "metadata": {},
   "outputs": [],
   "source": [
    "data = {}\n",
    "\n",
    "with open(csvFilePath) as csvFile:\n",
    "    csvReader = csv.DictReader(csvFile)\n",
    "    for rows in csvReader:\n",
    "        id = rows['gameId']\n",
    "        data[id] = rows"
   ]
  },
  {
   "cell_type": "code",
   "execution_count": 22,
   "metadata": {},
   "outputs": [],
   "source": [
    "with open(jsonFilePath, 'w') as jsonFile :\n",
    "    jsonFile.write(json.dumps(data,indent =4))"
   ]
  },
  {
   "cell_type": "code",
   "execution_count": 23,
   "metadata": {},
   "outputs": [],
   "source": [
    "with open('game.json') as f:\n",
    "    file_data = json.load(f)"
   ]
  },
  {
   "cell_type": "code",
   "execution_count": 24,
   "metadata": {},
   "outputs": [
    {
     "data": {
      "text/plain": [
       "<pymongo.results.InsertOneResult at 0x1ff2da8dfc8>"
      ]
     },
     "execution_count": 24,
     "metadata": {},
     "output_type": "execute_result"
    }
   ],
   "source": [
    "mycol3.insert_one(file_data)"
   ]
  },
  {
   "cell_type": "code",
   "execution_count": 25,
   "metadata": {},
   "outputs": [
    {
     "name": "stdout",
     "output_type": "stream",
     "text": [
      "['players', 'Division', 'teams', 'game', 'stats', 'Conference']\n"
     ]
    }
   ],
   "source": [
    "#Check if collection exists :\n",
    "print(mydb.list_collection_names())"
   ]
  },
  {
   "cell_type": "code",
   "execution_count": 26,
   "metadata": {},
   "outputs": [],
   "source": [
    "csvFilePath = 'Stats.csv'\n",
    "jsonFilePath = 'stats.json'"
   ]
  },
  {
   "cell_type": "code",
   "execution_count": 27,
   "metadata": {},
   "outputs": [],
   "source": [
    "data = {}\n",
    "\n",
    "with open(csvFilePath) as csvFile:\n",
    "    csvReader = csv.DictReader(csvFile)\n",
    "    for rows in csvReader:\n",
    "        id = rows['statId']\n",
    "        data[id] = rows"
   ]
  },
  {
   "cell_type": "code",
   "execution_count": 28,
   "metadata": {},
   "outputs": [],
   "source": [
    "with open(jsonFilePath, 'w') as jsonFile :\n",
    "    jsonFile.write(json.dumps(data,indent =4))"
   ]
  },
  {
   "cell_type": "code",
   "execution_count": 29,
   "metadata": {},
   "outputs": [],
   "source": [
    "with open('stats.json') as f:\n",
    "    file_data = json.load(f)"
   ]
  },
  {
   "cell_type": "code",
   "execution_count": 30,
   "metadata": {},
   "outputs": [
    {
     "data": {
      "text/plain": [
       "<pymongo.results.InsertOneResult at 0x1ff2da80c48>"
      ]
     },
     "execution_count": 30,
     "metadata": {},
     "output_type": "execute_result"
    }
   ],
   "source": [
    "mycol4.insert_one(file_data)"
   ]
  },
  {
   "cell_type": "code",
   "execution_count": 31,
   "metadata": {},
   "outputs": [
    {
     "name": "stdout",
     "output_type": "stream",
     "text": [
      "['players', 'Division', 'teams', 'game', 'stats', 'Conference']\n"
     ]
    }
   ],
   "source": [
    "#Check if collection exists :\n",
    "print(mydb.list_collection_names())"
   ]
  },
  {
   "cell_type": "code",
   "execution_count": 32,
   "metadata": {},
   "outputs": [],
   "source": [
    "csvFilePath = 'DivisionData.csv'\n",
    "jsonFilePath = 'division.json'"
   ]
  },
  {
   "cell_type": "code",
   "execution_count": 33,
   "metadata": {},
   "outputs": [],
   "source": [
    "data = {}\n",
    "\n",
    "with open(csvFilePath) as csvFile:\n",
    "    csvReader = csv.DictReader(csvFile)\n",
    "    for rows in csvReader:\n",
    "        id = rows['divisionId']\n",
    "        data[id] = rows"
   ]
  },
  {
   "cell_type": "code",
   "execution_count": 34,
   "metadata": {},
   "outputs": [],
   "source": [
    "with open(jsonFilePath, 'w') as jsonFile :\n",
    "    jsonFile.write(json.dumps(data,indent =4))"
   ]
  },
  {
   "cell_type": "code",
   "execution_count": 35,
   "metadata": {},
   "outputs": [],
   "source": [
    "with open('division.json') as f:\n",
    "    file_data = json.load(f)"
   ]
  },
  {
   "cell_type": "code",
   "execution_count": 36,
   "metadata": {},
   "outputs": [
    {
     "data": {
      "text/plain": [
       "<pymongo.results.InsertOneResult at 0x1ff2d618508>"
      ]
     },
     "execution_count": 36,
     "metadata": {},
     "output_type": "execute_result"
    }
   ],
   "source": [
    "mycol5.insert_one(file_data)"
   ]
  },
  {
   "cell_type": "code",
   "execution_count": 37,
   "metadata": {},
   "outputs": [
    {
     "name": "stdout",
     "output_type": "stream",
     "text": [
      "['players', 'Division', 'teams', 'game', 'stats', 'Conference']\n"
     ]
    }
   ],
   "source": [
    "#Check if collection exists :\n",
    "print(mydb.list_collection_names())"
   ]
  },
  {
   "cell_type": "code",
   "execution_count": 38,
   "metadata": {},
   "outputs": [],
   "source": [
    "csvFilePath = 'ConferenceData.csv'\n",
    "jsonFilePath = 'conference.json'"
   ]
  },
  {
   "cell_type": "code",
   "execution_count": 39,
   "metadata": {},
   "outputs": [],
   "source": [
    "data = {}\n",
    "\n",
    "with open(csvFilePath) as csvFile:\n",
    "    csvReader = csv.DictReader(csvFile)\n",
    "    for rows in csvReader:\n",
    "        id = rows['confId']\n",
    "        data[id] = rows"
   ]
  },
  {
   "cell_type": "code",
   "execution_count": 40,
   "metadata": {},
   "outputs": [],
   "source": [
    "with open(jsonFilePath, 'w') as jsonFile :\n",
    "    jsonFile.write(json.dumps(data,indent =4))"
   ]
  },
  {
   "cell_type": "code",
   "execution_count": 41,
   "metadata": {},
   "outputs": [],
   "source": [
    "with open('conference.json') as f:\n",
    "    file_data = json.load(f)"
   ]
  },
  {
   "cell_type": "code",
   "execution_count": 42,
   "metadata": {},
   "outputs": [
    {
     "data": {
      "text/plain": [
       "<pymongo.results.InsertOneResult at 0x1ff2da78608>"
      ]
     },
     "execution_count": 42,
     "metadata": {},
     "output_type": "execute_result"
    }
   ],
   "source": [
    "mycol6.insert_one(file_data)"
   ]
  },
  {
   "cell_type": "markdown",
   "metadata": {},
   "source": [
    "list_collection_names() : shows the final list of all the collections present in the Database that we have created."
   ]
  },
  {
   "cell_type": "code",
   "execution_count": 43,
   "metadata": {},
   "outputs": [
    {
     "name": "stdout",
     "output_type": "stream",
     "text": [
      "['players', 'Division', 'teams', 'game', 'stats', 'Conference']\n"
     ]
    }
   ],
   "source": [
    "#Check if collection exists :\n",
    "print(mydb.list_collection_names())"
   ]
  }
 ],
 "metadata": {
  "kernelspec": {
   "display_name": "Python 3",
   "language": "python",
   "name": "python3"
  },
  "language_info": {
   "codemirror_mode": {
    "name": "ipython",
    "version": 3
   },
   "file_extension": ".py",
   "mimetype": "text/x-python",
   "name": "python",
   "nbconvert_exporter": "python",
   "pygments_lexer": "ipython3",
   "version": "3.7.4"
  }
 },
 "nbformat": 4,
 "nbformat_minor": 2
}
